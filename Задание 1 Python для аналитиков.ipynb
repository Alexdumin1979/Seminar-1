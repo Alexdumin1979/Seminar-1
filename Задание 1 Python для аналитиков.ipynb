{
 "cells": [
  {
   "cell_type": "markdown",
   "id": "f83d2b41",
   "metadata": {},
   "source": [
    "## Задание 1\n",
    "На складе лежат разные фрукты в разном количестве. Нужно написать функцию, которая на вход принимает любое количество названий фруктов и их количество, а возвращает общее количество фруктов на складе"
   ]
  },
  {
   "cell_type": "code",
   "execution_count": 5,
   "id": "506ff71d",
   "metadata": {},
   "outputs": [
    {
     "name": "stdout",
     "output_type": "stream",
     "text": [
      "45\n"
     ]
    }
   ],
   "source": [
    "def total_fruits(*args):\n",
    "    total = 0\n",
    "    for fruit in args:\n",
    "        total += fruit[1]\n",
    "    return total\n",
    "print(total_fruits(('banana', 10), ('mango', 15), ('apple', 20)))"
   ]
  },
  {
   "cell_type": "code",
   "execution_count": 7,
   "id": "8dd7a321",
   "metadata": {},
   "outputs": [
    {
     "name": "stdout",
     "output_type": "stream",
     "text": [
      "60\n"
     ]
    }
   ],
   "source": [
    "def total_fruits(**kwargs):\n",
    "    total = 0\n",
    "    for fruit, quantity in kwargs.items():\n",
    "        total += quantity\n",
    "    return total\n",
    "print(total_fruits(banana=10, mango=20, apple=30))"
   ]
  },
  {
   "cell_type": "markdown",
   "id": "df167e03",
   "metadata": {},
   "source": [
    "## Задание 2\n",
    "Дан список с затратами на рекламу. Но в данных есть ошибки, некоторые затраты имеют отрицательную величину. Удалите такие значения из списка и посчитайте суммарные затраты [100, 125, -90, 345, 655, -1, 0, 200] Используйте list comprehensions"
   ]
  },
  {
   "cell_type": "code",
   "execution_count": 7,
   "id": "f21f5089",
   "metadata": {},
   "outputs": [
    {
     "name": "stdout",
     "output_type": "stream",
     "text": [
      "1425\n"
     ]
    }
   ],
   "source": [
    "costs = [100, 125, -90, 345, 655, -1, 0, 200]\n",
    "correct_costs = [cost for cost in costs if cost >= 0]\n",
    "total_cost = sum(correct_costs)\n",
    "print(total_cost)"
   ]
  },
  {
   "cell_type": "markdown",
   "id": "205cb8c3",
   "metadata": {},
   "source": [
    "## Задание 3\n",
    "Даны два списка. \n",
    "Дата покупки ['2021-09-14', '2021-12-15', '2021-09-08', '2021-12-05', '2021-10-09', '2021-09-30', '2021-12-22', '2021-11-29', '2021-12-24', '2021-11-26', '2021-10-27', '2021-12-18', '2021-11-09', '2021-11-23', '2021-09-27', '2021-10-02', '2021-12-27', '2021-09-20', '2021-12-13', '2021-11-01', '2021-11-09', '2021-12-06', '2021-12-08', '2021-10-09', '2021-10-31', '2021-09-30', '2021-11-09', '2021-12-13', '2021-10-26', '2021-12-09'] \n",
    "Суммы покупок по датам [1270, 8413, 9028, 3703, 5739, 4095, 295, 4944, 5723, 3701, 4471, 651, 7037, 4274, 6275, 4988, 6930, 2971, 6592, 2004, 2822, 519, 3406, 2732, 5015, 2008, 316, 6333, 5700, 2887]\n",
    "### 3.1\n",
    "Найдите, какая выручка у компании в ноябре Используйте list comprehensions\n"
   ]
  },
  {
   "cell_type": "code",
   "execution_count": 8,
   "id": "2a53c66a",
   "metadata": {},
   "outputs": [
    {
     "name": "stdout",
     "output_type": "stream",
     "text": [
      "Общая выручка в ноябре: 25098\n"
     ]
    }
   ],
   "source": [
    "dates = ['2021-09-14', '2021-12-15', '2021-09-08', '2021-12-05', '2021-10-09', '2021-09-30', '2021-12-22', '2021-11-29', '2021-12-24', '2021-11-26', '2021-10-27', '2021-12-18', '2021-11-09', '2021-11-23', '2021-09-27', '2021-10-02', '2021-12-27', '2021-09-20', '2021-12-13', '2021-11-01', '2021-11-09', '2021-12-06', '2021-12-08', '2021-10-09', '2021-10-31', '2021-09-30', '2021-11-09', '2021-12-13', '2021-10-26', '2021-12-09']\n",
    "amounts = [1270, 8413, 9028, 3703, 5739, 4095, 295, 4944, 5723, 3701, 4471, 651, 7037, 4274, 6275, 4988, 6930, 2971, 6592, 2004, 2822, 519, 3406, 2732, 5015, 2008, 316, 6333, 5700, 2887]\n",
    "\n",
    "# Используйте list comprehension для создания списка кортежей (дата покупки, сумма покупки)\n",
    "purchases = [(date, amount) for date, amount in zip(dates, amounts)]\n",
    "\n",
    "# Используйте list comprehension для фильтрации покупок в ноябре\n",
    "november_purchases = [amount for date, amount in purchases if date.startswith('2021-11')]\n",
    "\n",
    "# Вычислите общую выручку в ноябре\n",
    "total_revenue_november = sum(november_purchases)\n",
    "\n",
    "print(f\"Общая выручка в ноябре: {total_revenue_november}\")"
   ]
  },
  {
   "cell_type": "markdown",
   "id": "daa8a9ec",
   "metadata": {},
   "source": [
    "### 3.2\n",
    "Найдите выручку компании в зависимости от месяца Для этого напишите функцию, которая на вход принимает список с датами и список с выручкой, а на выходе словарь, где ключи - это месяцы, а значения - это выручка. Используйте аннотирование типов."
   ]
  },
  {
   "cell_type": "code",
   "execution_count": 9,
   "id": "db053fba",
   "metadata": {},
   "outputs": [
    {
     "name": "stdout",
     "output_type": "stream",
     "text": [
      "2021-09: 25647\n",
      "2021-12: 45452\n",
      "2021-10: 28645\n",
      "2021-11: 25098\n"
     ]
    }
   ],
   "source": [
    "from typing import List, Dict\n",
    "\n",
    "def calculate_monthly_revenue(dates: List[str], revenue: List[int]) -> Dict[str, int]:\n",
    "    monthly_revenue = {}  # Создаем пустой словарь для хранения выручки по месяцам\n",
    "    \n",
    "    for date, amount in zip(dates, revenue):\n",
    "        year, month, _ = date.split('-')  # Разбиваем дату на год, месяц и день\n",
    "        key = f\"{year}-{month}\"  # Создаем ключ в формате \"год-месяц\"\n",
    "        \n",
    "        if key in monthly_revenue:\n",
    "            monthly_revenue[key] += amount\n",
    "        else:\n",
    "            monthly_revenue[key] = amount\n",
    "    \n",
    "    return monthly_revenue\n",
    "\n",
    "# Пример входных данных\n",
    "purchase_dates = ['2021-09-14', '2021-12-15', '2021-09-08', '2021-12-05', '2021-10-09', '2021-09-30', '2021-12-22', '2021-11-29', '2021-12-24', '2021-11-26', '2021-10-27', '2021-12-18', '2021-11-09', '2021-11-23', '2021-09-27', '2021-10-02', '2021-12-27', '2021-09-20', '2021-12-13', '2021-11-01', '2021-11-09', '2021-12-06', '2021-12-08', '2021-10-09', '2021-10-31', '2021-09-30', '2021-11-09', '2021-12-13', '2021-10-26', '2021-12-09']\n",
    "purchase_amounts = [1270, 8413, 9028, 3703, 5739, 4095, 295, 4944, 5723, 3701, 4471, 651, 7037, 4274, 6275, 4988, 6930, 2971, 6592, 2004, 2822, 519, 3406, 2732, 5015, 2008, 316, 6333, 5700, 2887]\n",
    "\n",
    "# Вызов функции для расчета выручки по месяцам\n",
    "monthly_revenue = calculate_monthly_revenue(purchase_dates, purchase_amounts)\n",
    "\n",
    "# Вывод результата\n",
    "for month, revenue in monthly_revenue.items():\n",
    "    print(f\"{month}: {revenue}\")\n"
   ]
  }
 ],
 "metadata": {
  "kernelspec": {
   "display_name": "Python 3 (ipykernel)",
   "language": "python",
   "name": "python3"
  },
  "language_info": {
   "codemirror_mode": {
    "name": "ipython",
    "version": 3
   },
   "file_extension": ".py",
   "mimetype": "text/x-python",
   "name": "python",
   "nbconvert_exporter": "python",
   "pygments_lexer": "ipython3",
   "version": "3.10.9"
  }
 },
 "nbformat": 4,
 "nbformat_minor": 5
}
